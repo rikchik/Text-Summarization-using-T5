{
  "metadata": {
    "kernelspec": {
      "language": "python",
      "display_name": "Python 3",
      "name": "python3"
    },
    "language_info": {
      "name": "python",
      "version": "3.10.14",
      "mimetype": "text/x-python",
      "codemirror_mode": {
        "name": "ipython",
        "version": 3
      },
      "pygments_lexer": "ipython3",
      "nbconvert_exporter": "python",
      "file_extension": ".py"
    },
    "kaggle": {
      "accelerator": "gpu",
      "dataSources": [
        {
          "sourceId": 791838,
          "sourceType": "datasetVersion",
          "datasetId": 1895
        }
      ],
      "dockerImageVersionId": 30787,
      "isInternetEnabled": true,
      "language": "python",
      "sourceType": "notebook",
      "isGpuEnabled": true
    },
    "colab": {
      "name": "notebook1f5fa6000f",
      "provenance": [],
      "include_colab_link": true
    }
  },
  "nbformat_minor": 0,
  "nbformat": 4,
  "cells": [
    {
      "cell_type": "markdown",
      "metadata": {
        "id": "view-in-github",
        "colab_type": "text"
      },
      "source": [
        "<a href=\"https://colab.research.google.com/github/rikchik/Text-summarization-using-T5/blob/main/notebook1f5fa6000f.ipynb\" target=\"_parent\"><img src=\"https://colab.research.google.com/assets/colab-badge.svg\" alt=\"Open In Colab\"/></a>"
      ]
    },
    {
      "source": [
        "\n",
        "# IMPORTANT: RUN THIS CELL IN ORDER TO IMPORT YOUR KAGGLE DATA SOURCES\n",
        "# TO THE CORRECT LOCATION (/kaggle/input) IN YOUR NOTEBOOK,\n",
        "# THEN FEEL FREE TO DELETE THIS CELL.\n",
        "# NOTE: THIS NOTEBOOK ENVIRONMENT DIFFERS FROM KAGGLE'S PYTHON\n",
        "# ENVIRONMENT SO THERE MAY BE MISSING LIBRARIES USED BY YOUR\n",
        "# NOTEBOOK.\n",
        "\n",
        "import os\n",
        "import sys\n",
        "from tempfile import NamedTemporaryFile\n",
        "from urllib.request import urlopen\n",
        "from urllib.parse import unquote, urlparse\n",
        "from urllib.error import HTTPError\n",
        "from zipfile import ZipFile\n",
        "import tarfile\n",
        "import shutil\n",
        "\n",
        "CHUNK_SIZE = 40960\n",
        "DATA_SOURCE_MAPPING = 'news-summary:https%3A%2F%2Fstorage.googleapis.com%2Fkaggle-data-sets%2F1895%2F791838%2Fbundle%2Farchive.zip%3FX-Goog-Algorithm%3DGOOG4-RSA-SHA256%26X-Goog-Credential%3Dgcp-kaggle-com%2540kaggle-161607.iam.gserviceaccount.com%252F20241010%252Fauto%252Fstorage%252Fgoog4_request%26X-Goog-Date%3D20241010T160248Z%26X-Goog-Expires%3D259200%26X-Goog-SignedHeaders%3Dhost%26X-Goog-Signature%3D2c9aae7c01dc11a10646a1eb1e631d060d293bde86810db149734aaedb29dac0741b53e70239b0a476699aef9aa6bd6b61a3c06c0715d0be1a690ad9e109835a56204a34856ba581243a200fb16fc9d653afe10dfbaf30d9c58deda9f8c7cff77a43b111f38dd2801512a2ca923c98ad30605d607bd4da0d5b8ac9a1879f25cb031678a271ae0e5ff56b44a288121144c91219935be0dde6087f40c1eec873e0c3382403f12527e7a02e589ced329595784abe0e8e40aaa0b255f4869e49dd024d34e51beda103da4ead4fdde4a2bced21928021dd05535e49ab66dc48b2f156e399500c96f43e90682ab1ef10027415e223ccc18a9ec9c8f0e1b5bb6a3abeff'\n",
        "\n",
        "KAGGLE_INPUT_PATH='/kaggle/input'\n",
        "KAGGLE_WORKING_PATH='/kaggle/working'\n",
        "KAGGLE_SYMLINK='kaggle'\n",
        "\n",
        "!umount /kaggle/input/ 2> /dev/null\n",
        "shutil.rmtree('/kaggle/input', ignore_errors=True)\n",
        "os.makedirs(KAGGLE_INPUT_PATH, 0o777, exist_ok=True)\n",
        "os.makedirs(KAGGLE_WORKING_PATH, 0o777, exist_ok=True)\n",
        "\n",
        "try:\n",
        "  os.symlink(KAGGLE_INPUT_PATH, os.path.join(\"..\", 'input'), target_is_directory=True)\n",
        "except FileExistsError:\n",
        "  pass\n",
        "try:\n",
        "  os.symlink(KAGGLE_WORKING_PATH, os.path.join(\"..\", 'working'), target_is_directory=True)\n",
        "except FileExistsError:\n",
        "  pass\n",
        "\n",
        "for data_source_mapping in DATA_SOURCE_MAPPING.split(','):\n",
        "    directory, download_url_encoded = data_source_mapping.split(':')\n",
        "    download_url = unquote(download_url_encoded)\n",
        "    filename = urlparse(download_url).path\n",
        "    destination_path = os.path.join(KAGGLE_INPUT_PATH, directory)\n",
        "    try:\n",
        "        with urlopen(download_url) as fileres, NamedTemporaryFile() as tfile:\n",
        "            total_length = fileres.headers['content-length']\n",
        "            print(f'Downloading {directory}, {total_length} bytes compressed')\n",
        "            dl = 0\n",
        "            data = fileres.read(CHUNK_SIZE)\n",
        "            while len(data) > 0:\n",
        "                dl += len(data)\n",
        "                tfile.write(data)\n",
        "                done = int(50 * dl / int(total_length))\n",
        "                sys.stdout.write(f\"\\r[{'=' * done}{' ' * (50-done)}] {dl} bytes downloaded\")\n",
        "                sys.stdout.flush()\n",
        "                data = fileres.read(CHUNK_SIZE)\n",
        "            if filename.endswith('.zip'):\n",
        "              with ZipFile(tfile) as zfile:\n",
        "                zfile.extractall(destination_path)\n",
        "            else:\n",
        "              with tarfile.open(tfile.name) as tarfile:\n",
        "                tarfile.extractall(destination_path)\n",
        "            print(f'\\nDownloaded and uncompressed: {directory}')\n",
        "    except HTTPError as e:\n",
        "        print(f'Failed to load (likely expired) {download_url} to path {destination_path}')\n",
        "        continue\n",
        "    except OSError as e:\n",
        "        print(f'Failed to load {download_url} to path {destination_path}')\n",
        "        continue\n",
        "\n",
        "print('Data source import complete.')\n"
      ],
      "metadata": {
        "id": "6Vnui46jKzIV"
      },
      "cell_type": "code",
      "outputs": [],
      "execution_count": null
    },
    {
      "cell_type": "code",
      "source": [
        "# This Python 3 environment comes with many helpful analytics libraries installed\n",
        "# It is defined by the kaggle/python Docker image: https://github.com/kaggle/docker-python\n",
        "# For example, here's several helpful packages to load\n",
        "\n",
        "import numpy as np # linear algebra\n",
        "import pandas as pd # data processing, CSV file I/O (e.g. pd.read_csv)\n",
        "\n",
        "# Input data files are available in the read-only \"../input/\" directory\n",
        "# For example, running this (by clicking run or pressing Shift+Enter) will list all files under the input directory\n",
        "\n",
        "import os\n",
        "for dirname, _, filenames in os.walk('/kaggle/input'):\n",
        "    for filename in filenames:\n",
        "        print(os.path.join(dirname, filename))\n",
        "\n",
        "# You can write up to 20GB to the current directory (/kaggle/working/) that gets preserved as output when you create a version using \"Save & Run All\"\n",
        "# You can also write temporary files to /kaggle/temp/, but they won't be saved outside of the current session"
      ],
      "metadata": {
        "_uuid": "8f2839f25d086af736a60e9eeb907d3b93b6e0e5",
        "_cell_guid": "b1076dfc-b9ad-4769-8c92-a6c4dae69d19",
        "execution": {
          "iopub.status.busy": "2024-10-10T13:57:37.831817Z",
          "iopub.execute_input": "2024-10-10T13:57:37.832511Z",
          "iopub.status.idle": "2024-10-10T13:57:38.200899Z",
          "shell.execute_reply.started": "2024-10-10T13:57:37.832469Z",
          "shell.execute_reply": "2024-10-10T13:57:38.199969Z"
        },
        "trusted": true,
        "id": "fd8xRwMRKzIY"
      },
      "execution_count": null,
      "outputs": []
    },
    {
      "cell_type": "code",
      "source": [
        "from torch.utils.data import Dataset, DataLoader\n",
        "from transformers import AdamW, T5ForConditionalGeneration, T5TokenizerFast\n",
        "import torch\n",
        "import seaborn as sns"
      ],
      "metadata": {
        "execution": {
          "iopub.status.busy": "2024-10-10T13:57:44.309137Z",
          "iopub.execute_input": "2024-10-10T13:57:44.310266Z",
          "iopub.status.idle": "2024-10-10T13:57:50.005165Z",
          "shell.execute_reply.started": "2024-10-10T13:57:44.310212Z",
          "shell.execute_reply": "2024-10-10T13:57:50.004177Z"
        },
        "trusted": true,
        "id": "2KJe44ghKzIZ"
      },
      "execution_count": null,
      "outputs": []
    },
    {
      "cell_type": "code",
      "source": [
        "data=pd.read_csv(\"/kaggle/input/news-summary/news_summary_more.csv\",encoding=\"latin-1\")\n",
        "data=pd.read_csv(\"/kaggle/input/news-summary/news_summary.csv\",encoding=\"latin-1\")"
      ],
      "metadata": {
        "execution": {
          "iopub.status.busy": "2024-10-10T13:57:50.006952Z",
          "iopub.execute_input": "2024-10-10T13:57:50.007404Z",
          "iopub.status.idle": "2024-10-10T13:57:51.073754Z",
          "shell.execute_reply.started": "2024-10-10T13:57:50.007368Z",
          "shell.execute_reply": "2024-10-10T13:57:51.072951Z"
        },
        "trusted": true,
        "id": "S6rAO2TEKzIZ"
      },
      "execution_count": null,
      "outputs": []
    },
    {
      "cell_type": "code",
      "source": [
        "data.iloc[0][\"ctext\"]"
      ],
      "metadata": {
        "execution": {
          "iopub.status.busy": "2024-10-10T13:57:51.074796Z",
          "iopub.execute_input": "2024-10-10T13:57:51.07507Z",
          "iopub.status.idle": "2024-10-10T13:57:51.08559Z",
          "shell.execute_reply.started": "2024-10-10T13:57:51.075039Z",
          "shell.execute_reply": "2024-10-10T13:57:51.084668Z"
        },
        "trusted": true,
        "id": "FRXTAsL4KzIa"
      },
      "execution_count": null,
      "outputs": []
    },
    {
      "cell_type": "code",
      "source": [
        "data.iloc[0][\"text\"]"
      ],
      "metadata": {
        "execution": {
          "iopub.status.busy": "2024-10-10T13:57:53.399399Z",
          "iopub.execute_input": "2024-10-10T13:57:53.399787Z",
          "iopub.status.idle": "2024-10-10T13:57:53.406519Z",
          "shell.execute_reply.started": "2024-10-10T13:57:53.399751Z",
          "shell.execute_reply": "2024-10-10T13:57:53.405611Z"
        },
        "trusted": true,
        "id": "Ve-spR7UKzIa"
      },
      "execution_count": null,
      "outputs": []
    },
    {
      "cell_type": "code",
      "source": [
        "data.head(5)"
      ],
      "metadata": {
        "execution": {
          "iopub.status.busy": "2024-10-10T13:57:54.43562Z",
          "iopub.execute_input": "2024-10-10T13:57:54.435982Z",
          "iopub.status.idle": "2024-10-10T13:57:54.450982Z",
          "shell.execute_reply.started": "2024-10-10T13:57:54.435947Z",
          "shell.execute_reply": "2024-10-10T13:57:54.450169Z"
        },
        "trusted": true,
        "id": "QkxcP8tHKzIa"
      },
      "execution_count": null,
      "outputs": []
    },
    {
      "cell_type": "code",
      "source": [
        "data=data[[\"ctext\",\"text\"]]"
      ],
      "metadata": {
        "execution": {
          "iopub.status.busy": "2024-10-10T13:57:58.381156Z",
          "iopub.execute_input": "2024-10-10T13:57:58.382056Z",
          "iopub.status.idle": "2024-10-10T13:57:58.395711Z",
          "shell.execute_reply.started": "2024-10-10T13:57:58.382013Z",
          "shell.execute_reply": "2024-10-10T13:57:58.394638Z"
        },
        "trusted": true,
        "id": "nNZmLOUjKzIb"
      },
      "execution_count": null,
      "outputs": []
    },
    {
      "cell_type": "code",
      "source": [
        "data=data.dropna()"
      ],
      "metadata": {
        "execution": {
          "iopub.status.busy": "2024-10-10T13:57:59.214008Z",
          "iopub.execute_input": "2024-10-10T13:57:59.214499Z",
          "iopub.status.idle": "2024-10-10T13:57:59.223785Z",
          "shell.execute_reply.started": "2024-10-10T13:57:59.21446Z",
          "shell.execute_reply": "2024-10-10T13:57:59.222584Z"
        },
        "trusted": true,
        "id": "z55LptSjKzIb"
      },
      "execution_count": null,
      "outputs": []
    },
    {
      "cell_type": "code",
      "source": [
        "data.head()"
      ],
      "metadata": {
        "execution": {
          "iopub.status.busy": "2024-10-10T13:58:01.568206Z",
          "iopub.execute_input": "2024-10-10T13:58:01.56907Z",
          "iopub.status.idle": "2024-10-10T13:58:01.578126Z",
          "shell.execute_reply.started": "2024-10-10T13:58:01.569029Z",
          "shell.execute_reply": "2024-10-10T13:58:01.577202Z"
        },
        "trusted": true,
        "id": "k-AfnEkmKzIc"
      },
      "execution_count": null,
      "outputs": []
    },
    {
      "cell_type": "code",
      "source": [
        "len(data)"
      ],
      "metadata": {
        "execution": {
          "iopub.status.busy": "2024-10-10T13:58:02.834295Z",
          "iopub.execute_input": "2024-10-10T13:58:02.835116Z",
          "iopub.status.idle": "2024-10-10T13:58:02.840922Z",
          "shell.execute_reply.started": "2024-10-10T13:58:02.835077Z",
          "shell.execute_reply": "2024-10-10T13:58:02.839957Z"
        },
        "trusted": true,
        "id": "EbgvKl82KzIc"
      },
      "execution_count": null,
      "outputs": []
    },
    {
      "cell_type": "code",
      "source": [
        "test_data=data.iloc[:677].reset_index()[[\"ctext\",\"text\"]]\n",
        "train_data=data.iloc[677:].reset_index()[[\"ctext\",\"text\"]]"
      ],
      "metadata": {
        "execution": {
          "iopub.status.busy": "2024-10-10T13:58:04.835296Z",
          "iopub.execute_input": "2024-10-10T13:58:04.836075Z",
          "iopub.status.idle": "2024-10-10T13:58:04.844181Z",
          "shell.execute_reply.started": "2024-10-10T13:58:04.836036Z",
          "shell.execute_reply": "2024-10-10T13:58:04.843206Z"
        },
        "trusted": true,
        "id": "zh04ZLCLKzIc"
      },
      "execution_count": null,
      "outputs": []
    },
    {
      "cell_type": "code",
      "source": [
        "test_data.head()"
      ],
      "metadata": {
        "execution": {
          "iopub.status.busy": "2024-10-10T13:58:25.007185Z",
          "iopub.execute_input": "2024-10-10T13:58:25.007553Z",
          "iopub.status.idle": "2024-10-10T13:58:25.016697Z",
          "shell.execute_reply.started": "2024-10-10T13:58:25.007521Z",
          "shell.execute_reply": "2024-10-10T13:58:25.015601Z"
        },
        "trusted": true,
        "id": "HwQXah5_KzIc"
      },
      "execution_count": null,
      "outputs": []
    },
    {
      "cell_type": "code",
      "source": [
        "mx,mn=0,20000\n",
        "for i in range(len(train_data)):\n",
        "    mx=max(len(train_data.iloc[i][\"ctext\"].split(\" \")),mx)\n",
        "    mn=min(len(train_data.iloc[i][\"ctext\"].split(\" \")),mn)\n",
        "\n",
        "print(f\"Range summary: {mn}-{mx}\")"
      ],
      "metadata": {
        "execution": {
          "iopub.status.busy": "2024-10-10T13:58:33.557782Z",
          "iopub.execute_input": "2024-10-10T13:58:33.558401Z",
          "iopub.status.idle": "2024-10-10T13:58:33.967592Z",
          "shell.execute_reply.started": "2024-10-10T13:58:33.55836Z",
          "shell.execute_reply": "2024-10-10T13:58:33.966687Z"
        },
        "trusted": true,
        "id": "YjmX-z_qKzId"
      },
      "execution_count": null,
      "outputs": []
    },
    {
      "cell_type": "code",
      "source": [
        "mx,mn=0,20000\n",
        "for i in range(len(train_data)):\n",
        "    mx=max(len(train_data.iloc[i][\"text\"].split(\" \")),mx)\n",
        "    mn=min(len(train_data.iloc[i][\"text\"].split(\" \")),mn)\n",
        "\n",
        "print(f\"Range summary: {mn}-{mx}\")"
      ],
      "metadata": {
        "execution": {
          "iopub.status.busy": "2024-10-10T13:58:34.656446Z",
          "iopub.execute_input": "2024-10-10T13:58:34.657039Z",
          "iopub.status.idle": "2024-10-10T13:58:34.942848Z",
          "shell.execute_reply.started": "2024-10-10T13:58:34.657002Z",
          "shell.execute_reply": "2024-10-10T13:58:34.942003Z"
        },
        "trusted": true,
        "id": "B_FN4sjaKzId"
      },
      "execution_count": null,
      "outputs": []
    },
    {
      "cell_type": "code",
      "source": [
        "train_data[\"ctext_len\"]=train_data['ctext'].apply(lambda x:len(x.split()))\n",
        "train_data[\"text_len\"]=train_data[\"text\"].apply(lambda x:len(x.split()))"
      ],
      "metadata": {
        "execution": {
          "iopub.status.busy": "2024-10-10T13:58:36.608124Z",
          "iopub.execute_input": "2024-10-10T13:58:36.608778Z",
          "iopub.status.idle": "2024-10-10T13:58:36.709431Z",
          "shell.execute_reply.started": "2024-10-10T13:58:36.60874Z",
          "shell.execute_reply": "2024-10-10T13:58:36.708529Z"
        },
        "trusted": true,
        "id": "j90FLAKhKzId"
      },
      "execution_count": null,
      "outputs": []
    },
    {
      "cell_type": "code",
      "source": [
        "train_data[\"ctext_len\"]"
      ],
      "metadata": {
        "execution": {
          "iopub.status.busy": "2024-10-10T13:58:39.201618Z",
          "iopub.execute_input": "2024-10-10T13:58:39.201999Z",
          "iopub.status.idle": "2024-10-10T13:58:39.21024Z",
          "shell.execute_reply.started": "2024-10-10T13:58:39.201963Z",
          "shell.execute_reply": "2024-10-10T13:58:39.209318Z"
        },
        "trusted": true,
        "id": "dWsylkLOKzId"
      },
      "execution_count": null,
      "outputs": []
    },
    {
      "cell_type": "code",
      "source": [
        "sns.histplot(train_data[\"ctext_len\"],bins=50)"
      ],
      "metadata": {
        "execution": {
          "iopub.status.busy": "2024-10-10T13:58:41.59419Z",
          "iopub.execute_input": "2024-10-10T13:58:41.595036Z",
          "iopub.status.idle": "2024-10-10T13:58:41.978169Z",
          "shell.execute_reply.started": "2024-10-10T13:58:41.594997Z",
          "shell.execute_reply": "2024-10-10T13:58:41.977251Z"
        },
        "trusted": true,
        "id": "SOMPm5YRKzId"
      },
      "execution_count": null,
      "outputs": []
    },
    {
      "cell_type": "code",
      "source": [
        "sns.histplot(train_data[\"text_len\"],bins=15)"
      ],
      "metadata": {
        "execution": {
          "iopub.status.busy": "2024-10-10T13:58:44.242079Z",
          "iopub.execute_input": "2024-10-10T13:58:44.242825Z",
          "iopub.status.idle": "2024-10-10T13:58:44.549852Z",
          "shell.execute_reply.started": "2024-10-10T13:58:44.242784Z",
          "shell.execute_reply": "2024-10-10T13:58:44.548834Z"
        },
        "trusted": true,
        "id": "mXQBxx2QKzId"
      },
      "execution_count": null,
      "outputs": []
    },
    {
      "cell_type": "code",
      "source": [
        "class NewsDataset(Dataset):\n",
        "    def __init__(self,data1,tokenizer,max_elength,max_olength):\n",
        "        self.data=data1\n",
        "        self.tokenizer=tokenizer\n",
        "        self.max_elength=max_elength\n",
        "        self.max_olength=max_olength\n",
        "\n",
        "    def __len__(self):\n",
        "        return len(self.data)\n",
        "\n",
        "    def __getitem__(self,id):\n",
        "\n",
        "        text=self.data.iloc[id][\"ctext\"]\n",
        "        summary=self.data.iloc[id][\"text\"]\n",
        "\n",
        "        encoder=self.tokenizer(text,\n",
        "            max_length=self.max_elength,\n",
        "            padding=\"max_length\",\n",
        "            truncation=True,\n",
        "            return_tensors=\"pt\")\n",
        "\n",
        "        decoder=self.tokenizer(summary,\n",
        "            max_length=self.max_olength,\n",
        "            truncation=True,\n",
        "            padding=\"max_length\",\n",
        "            return_tensors=\"pt\"\n",
        "        )\n",
        "\n",
        "        return {\n",
        "            \"text\":text,\n",
        "            \"summary\":summary,\n",
        "            \"encoder_ids\":encoder[\"input_ids\"].squeeze(),\n",
        "            \"encoder_attention_mask\":encoder[\"attention_mask\"].squeeze(),\n",
        "            \"decoder_ids\":decoder[\"input_ids\"].squeeze(),\n",
        "            \"decoder_attention_mask\":decoder[\"attention_mask\"].squeeze()\n",
        "        }"
      ],
      "metadata": {
        "execution": {
          "iopub.status.busy": "2024-10-10T13:59:02.042013Z",
          "iopub.execute_input": "2024-10-10T13:59:02.042406Z",
          "iopub.status.idle": "2024-10-10T13:59:02.051114Z",
          "shell.execute_reply.started": "2024-10-10T13:59:02.042365Z",
          "shell.execute_reply": "2024-10-10T13:59:02.050188Z"
        },
        "trusted": true,
        "id": "yD90jMNvKzId"
      },
      "execution_count": null,
      "outputs": []
    },
    {
      "cell_type": "code",
      "source": [
        "model_name=\"google-t5/t5-base\"\n",
        "\n",
        "tokenizer=T5TokenizerFast.from_pretrained(model_name)\n",
        "model=T5ForConditionalGeneration.from_pretrained(model_name)"
      ],
      "metadata": {
        "execution": {
          "iopub.status.busy": "2024-10-10T13:59:03.412667Z",
          "iopub.execute_input": "2024-10-10T13:59:03.413037Z",
          "iopub.status.idle": "2024-10-10T13:59:08.713349Z",
          "shell.execute_reply.started": "2024-10-10T13:59:03.413Z",
          "shell.execute_reply": "2024-10-10T13:59:08.712354Z"
        },
        "trusted": true,
        "id": "SgUlv2p3KzId"
      },
      "execution_count": null,
      "outputs": []
    },
    {
      "cell_type": "code",
      "source": [
        "train_dataset=NewsDataset(train_data,tokenizer,512,128)\n",
        "test_dataset=NewsDataset(test_data,tokenizer,512,128)"
      ],
      "metadata": {
        "execution": {
          "iopub.status.busy": "2024-10-10T13:59:13.282913Z",
          "iopub.execute_input": "2024-10-10T13:59:13.283311Z",
          "iopub.status.idle": "2024-10-10T13:59:13.288254Z",
          "shell.execute_reply.started": "2024-10-10T13:59:13.28326Z",
          "shell.execute_reply": "2024-10-10T13:59:13.287191Z"
        },
        "trusted": true,
        "id": "3g8pPXYiKzIe"
      },
      "execution_count": null,
      "outputs": []
    },
    {
      "cell_type": "code",
      "source": [
        "(len(train_dataset),len(test_dataset))"
      ],
      "metadata": {
        "execution": {
          "iopub.status.busy": "2024-10-10T13:59:15.308175Z",
          "iopub.execute_input": "2024-10-10T13:59:15.308639Z",
          "iopub.status.idle": "2024-10-10T13:59:15.314848Z",
          "shell.execute_reply.started": "2024-10-10T13:59:15.308601Z",
          "shell.execute_reply": "2024-10-10T13:59:15.313891Z"
        },
        "trusted": true,
        "id": "Mca3ys3RKzIe"
      },
      "execution_count": null,
      "outputs": []
    },
    {
      "cell_type": "code",
      "source": [
        "train_dataset[0]"
      ],
      "metadata": {
        "execution": {
          "iopub.status.busy": "2024-10-10T13:59:32.318388Z",
          "iopub.execute_input": "2024-10-10T13:59:32.31877Z",
          "iopub.status.idle": "2024-10-10T13:59:32.339856Z",
          "shell.execute_reply.started": "2024-10-10T13:59:32.318735Z",
          "shell.execute_reply": "2024-10-10T13:59:32.338862Z"
        },
        "trusted": true,
        "id": "7ZreaKFtKzIe"
      },
      "execution_count": null,
      "outputs": []
    },
    {
      "cell_type": "code",
      "source": [
        "test_dataset[0]"
      ],
      "metadata": {
        "execution": {
          "iopub.status.busy": "2024-10-10T13:59:41.701604Z",
          "iopub.execute_input": "2024-10-10T13:59:41.701986Z",
          "iopub.status.idle": "2024-10-10T13:59:41.720909Z",
          "shell.execute_reply.started": "2024-10-10T13:59:41.701948Z",
          "shell.execute_reply": "2024-10-10T13:59:41.720003Z"
        },
        "trusted": true,
        "id": "Atl-jgfRKzIe"
      },
      "execution_count": null,
      "outputs": []
    },
    {
      "cell_type": "code",
      "source": [
        "train_dataloader=DataLoader(train_dataset,batch_size=8,shuffle=True)\n",
        "test_dataloader=DataLoader(test_dataset,batch_size=8,shuffle=False)"
      ],
      "metadata": {
        "execution": {
          "iopub.status.busy": "2024-10-10T13:59:58.453718Z",
          "iopub.execute_input": "2024-10-10T13:59:58.454486Z",
          "iopub.status.idle": "2024-10-10T13:59:58.459252Z",
          "shell.execute_reply.started": "2024-10-10T13:59:58.454446Z",
          "shell.execute_reply": "2024-10-10T13:59:58.45826Z"
        },
        "trusted": true,
        "id": "k2ssgzYFKzIe"
      },
      "execution_count": null,
      "outputs": []
    },
    {
      "cell_type": "code",
      "source": [
        "optimizer = torch.optim.Adam(params = model.parameters(), lr=0.0005)"
      ],
      "metadata": {
        "execution": {
          "iopub.status.busy": "2024-10-10T14:00:00.910759Z",
          "iopub.execute_input": "2024-10-10T14:00:00.911158Z",
          "iopub.status.idle": "2024-10-10T14:00:01.401574Z",
          "shell.execute_reply.started": "2024-10-10T14:00:00.911115Z",
          "shell.execute_reply": "2024-10-10T14:00:01.400561Z"
        },
        "trusted": true,
        "id": "7xZ60ReaKzIe"
      },
      "execution_count": null,
      "outputs": []
    },
    {
      "cell_type": "code",
      "source": [
        "torch.cuda.empty_cache()\n",
        "device=torch.device(\"cuda\" if torch.cuda.is_available() else \"cpu\")\n",
        "model.to(device)\n",
        "\n",
        "model.eval()\n",
        "with torch.no_grad():\n",
        "    for _,batch in enumerate(test_dataloader):\n",
        "        y=batch[\"decoder_ids\"].to(device,dtype=torch.long)\n",
        "        y_ids=y[:, :-1].contiguous()\n",
        "        labels=y[:, 1:].clone().detach()\n",
        "        labels[y[:, 1:]==tokenizer.pad_token_id]=-100\n",
        "        ids = batch['encoder_ids'].to(device, dtype=torch.long)\n",
        "        mask = batch['encoder_attention_mask'].to(device, dtype=torch.long)\n",
        "\n",
        "        outputs=model(input_ids=ids,attention_mask=mask,decoder_input_ids=y_ids,labels=labels)\n",
        "        loss=outputs[0]\n",
        "\n",
        "        print(f\"Batch:{_}\")\n",
        "        print(f\"Loss:{loss}\")\n",
        "        if _==10:\n",
        "            break\n",
        ""
      ],
      "metadata": {
        "execution": {
          "iopub.status.busy": "2024-10-10T14:00:12.882487Z",
          "iopub.execute_input": "2024-10-10T14:00:12.883061Z",
          "iopub.status.idle": "2024-10-10T14:00:16.543182Z",
          "shell.execute_reply.started": "2024-10-10T14:00:12.883025Z",
          "shell.execute_reply": "2024-10-10T14:00:16.542239Z"
        },
        "trusted": true,
        "id": "-sExRa7WKzIe"
      },
      "execution_count": null,
      "outputs": []
    },
    {
      "cell_type": "code",
      "source": [
        "epochs=15\n",
        "torch.cuda.empty_cache()\n",
        "device=torch.device(\"cuda\" if torch.cuda.is_available() else \"cpu\")\n",
        "model.to(device)\n",
        "optimizer.zero_grad()\n",
        "\n",
        "for epoch in range(epochs):\n",
        "\n",
        "    model.train()\n",
        "    print(f\"Epoch:{epoch+1}\")\n",
        "    print()\n",
        "    for _,batch in enumerate(train_dataloader):\n",
        "        y=batch[\"decoder_ids\"].to(device,dtype=torch.long)\n",
        "        y_ids=y[:, :-1].contiguous()\n",
        "        labels=y[:, 1:].clone().detach()\n",
        "        labels[y[:, 1:]==tokenizer.pad_token_id]=-100\n",
        "        ids = batch['encoder_ids'].to(device, dtype=torch.long)\n",
        "        mask = batch['encoder_attention_mask'].to(device, dtype=torch.long)\n",
        "\n",
        "        outputs=model(input_ids=ids,attention_mask=mask,decoder_input_ids=y_ids,labels=labels)\n",
        "        loss=outputs[0]\n",
        "\n",
        "        if _%100==0 and _>0:\n",
        "            print(f\"Step:{_}\")\n",
        "            print(f\"Training Loss:{loss.item()}\")\n",
        "            print()\n",
        "\n",
        "        optimizer.zero_grad()\n",
        "        loss.backward()\n",
        "        optimizer.step()"
      ],
      "metadata": {
        "execution": {
          "iopub.status.busy": "2024-10-10T14:01:03.153254Z",
          "iopub.execute_input": "2024-10-10T14:01:03.153652Z",
          "iopub.status.idle": "2024-10-10T15:19:09.788699Z",
          "shell.execute_reply.started": "2024-10-10T14:01:03.153615Z",
          "shell.execute_reply": "2024-10-10T15:19:09.787888Z"
        },
        "trusted": true,
        "id": "YYhQuwpOKzIe"
      },
      "execution_count": null,
      "outputs": []
    },
    {
      "cell_type": "code",
      "source": [
        "model.eval()\n",
        "with torch.no_grad():\n",
        "    for _,batch in enumerate(test_dataloader):\n",
        "        y=batch[\"decoder_ids\"].to(device,dtype=torch.long)\n",
        "        y_ids=y[:, :-1].contiguous()\n",
        "        labels=y[:, 1:].clone().detach()\n",
        "        labels[y[:, 1:]==tokenizer.pad_token_id]=-100\n",
        "        ids = batch['encoder_ids'].to(device, dtype=torch.long)\n",
        "        mask = batch['encoder_attention_mask'].to(device, dtype=torch.long)\n",
        "\n",
        "        outputs=model(input_ids=ids,attention_mask=mask,decoder_input_ids=y_ids,labels=labels)\n",
        "        loss=outputs[0]\n",
        "\n",
        "        print(f\"Batch:{_}\")\n",
        "        print(f\"Loss:{loss}\")\n",
        "        if _==10:\n",
        "            break"
      ],
      "metadata": {
        "execution": {
          "iopub.status.busy": "2024-10-10T15:19:20.941297Z",
          "iopub.execute_input": "2024-10-10T15:19:20.94215Z",
          "iopub.status.idle": "2024-10-10T15:19:23.58041Z",
          "shell.execute_reply.started": "2024-10-10T15:19:20.942112Z",
          "shell.execute_reply": "2024-10-10T15:19:23.579488Z"
        },
        "trusted": true,
        "id": "d2LyPJSWKzIe"
      },
      "execution_count": null,
      "outputs": []
    },
    {
      "cell_type": "code",
      "source": [
        "test_dataloader=DataLoader(test_dataset,batch_size=1,shuffle=False)"
      ],
      "metadata": {
        "execution": {
          "iopub.status.busy": "2024-10-10T15:19:35.305255Z",
          "iopub.execute_input": "2024-10-10T15:19:35.305908Z",
          "iopub.status.idle": "2024-10-10T15:19:35.310481Z",
          "shell.execute_reply.started": "2024-10-10T15:19:35.305868Z",
          "shell.execute_reply": "2024-10-10T15:19:35.309365Z"
        },
        "trusted": true,
        "id": "t27R_JV6KzIe"
      },
      "execution_count": null,
      "outputs": []
    },
    {
      "cell_type": "code",
      "source": [
        "model.eval()\n",
        "torch.cuda.empty_cache()\n",
        "device=torch.device(\"cuda\" if torch.cuda.is_available() else \"cpu\")\n",
        "model.to(device)\n",
        "\n",
        "predictions=[]\n",
        "actuals=[]\n",
        "for _,batch in enumerate(test_dataloader):\n",
        "    y=batch[\"decoder_ids\"].to(device,dtype=torch.long)\n",
        "    y_ids=y[:, :-1].contiguous()\n",
        "    labels=y[:, 1:].clone().detach()\n",
        "    ids = batch['encoder_ids'].to(device, dtype=torch.long)\n",
        "    mask = batch['encoder_attention_mask'].to(device, dtype=torch.long)\n",
        "\n",
        "    generated_ids=model.generate(\n",
        "        input_ids=ids,\n",
        "        attention_mask=mask,\n",
        "        min_length=20,\n",
        "        max_length=150,\n",
        "        num_beams=2,\n",
        "        repetition_penalty=2.5,\n",
        "        length_penalty=1.0,\n",
        "    )\n",
        "    preds=[tokenizer.decode(curr_id,skip_special_tokens=True,\n",
        "                            clean_up_tokenization_spaces=True) for curr_id in generated_ids]\n",
        "    target=[tokenizer.decode(curr_id,skip_special_tokens=True,\n",
        "                            clean_up_tokenization_spaces=True) for curr_id in labels]\n",
        "\n",
        "    predictions.extend(preds)\n",
        "    actuals.extend(target)\n",
        "    if _%100==0 and _>0:\n",
        "        break\n",
        ""
      ],
      "metadata": {
        "execution": {
          "iopub.status.busy": "2024-10-10T15:19:37.382797Z",
          "iopub.execute_input": "2024-10-10T15:19:37.383167Z",
          "iopub.status.idle": "2024-10-10T15:22:07.81384Z",
          "shell.execute_reply.started": "2024-10-10T15:19:37.383131Z",
          "shell.execute_reply": "2024-10-10T15:22:07.812848Z"
        },
        "trusted": true,
        "id": "uIaEy1UDKzIf"
      },
      "execution_count": null,
      "outputs": []
    },
    {
      "cell_type": "code",
      "source": [
        "print(\"Predictions:\")\n",
        "print(predictions[1])\n",
        "print(\"Actuals:\")\n",
        "print(actuals[1])"
      ],
      "metadata": {
        "execution": {
          "iopub.status.busy": "2024-10-10T15:32:03.896702Z",
          "iopub.execute_input": "2024-10-10T15:32:03.897261Z",
          "iopub.status.idle": "2024-10-10T15:32:03.902241Z",
          "shell.execute_reply.started": "2024-10-10T15:32:03.897222Z",
          "shell.execute_reply": "2024-10-10T15:32:03.901346Z"
        },
        "trusted": true,
        "id": "u2Pz0BDIKzIf"
      },
      "execution_count": null,
      "outputs": []
    },
    {
      "cell_type": "code",
      "source": [
        "!pip install evaluate"
      ],
      "metadata": {
        "execution": {
          "iopub.status.busy": "2024-10-10T15:43:17.581081Z",
          "iopub.execute_input": "2024-10-10T15:43:17.581949Z",
          "iopub.status.idle": "2024-10-10T15:43:29.620198Z",
          "shell.execute_reply.started": "2024-10-10T15:43:17.581909Z",
          "shell.execute_reply": "2024-10-10T15:43:29.61908Z"
        },
        "trusted": true,
        "id": "NVtwxaFsKzIf"
      },
      "execution_count": null,
      "outputs": []
    },
    {
      "cell_type": "code",
      "source": [
        "from evaluate import load\n",
        "import evaluate"
      ],
      "metadata": {
        "execution": {
          "iopub.status.busy": "2024-10-10T15:43:42.793591Z",
          "iopub.execute_input": "2024-10-10T15:43:42.794003Z",
          "iopub.status.idle": "2024-10-10T15:43:54.592241Z",
          "shell.execute_reply.started": "2024-10-10T15:43:42.793962Z",
          "shell.execute_reply": "2024-10-10T15:43:54.591464Z"
        },
        "trusted": true,
        "id": "H4NlUgzqKzIf"
      },
      "execution_count": null,
      "outputs": []
    },
    {
      "cell_type": "code",
      "source": [
        "rouge = evaluate.load('rouge')\n",
        "results = rouge.compute(predictions=predictions, references=actuals)\n",
        "print(results)"
      ],
      "metadata": {
        "execution": {
          "iopub.status.busy": "2024-10-10T15:45:17.872827Z",
          "iopub.execute_input": "2024-10-10T15:45:17.873785Z",
          "iopub.status.idle": "2024-10-10T15:45:19.207246Z",
          "shell.execute_reply.started": "2024-10-10T15:45:17.873738Z",
          "shell.execute_reply": "2024-10-10T15:45:19.206197Z"
        },
        "trusted": true,
        "id": "oYwDhuFuKzIf"
      },
      "execution_count": null,
      "outputs": []
    },
    {
      "cell_type": "code",
      "source": [],
      "metadata": {
        "id": "8bTxsuC6KzIf"
      },
      "execution_count": null,
      "outputs": []
    }
  ]
}